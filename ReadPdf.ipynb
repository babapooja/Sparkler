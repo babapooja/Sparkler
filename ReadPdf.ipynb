{
 "cells": [
  {
   "cell_type": "code",
   "execution_count": 111,
   "id": "f746b9d4",
   "metadata": {},
   "outputs": [],
   "source": [
    "import PyPDF2\n",
    "import os\n",
    "import pandas as pd\n",
    "import re"
   ]
  },
  {
   "cell_type": "code",
   "execution_count": 118,
   "id": "90088eaa",
   "metadata": {},
   "outputs": [
    {
     "name": "stderr",
     "output_type": "stream",
     "text": [
      "Xref table not zero-indexed. ID numbers for objects will be corrected.\n",
      "Xref table not zero-indexed. ID numbers for objects will be corrected.\n",
      "Xref table not zero-indexed. ID numbers for objects will be corrected.\n"
     ]
    },
    {
     "name": "stdout",
     "output_type": "stream",
     "text": [
      "                   DocLink                                           Abstract\n",
      "0           Oncology-4.pdf  The multidisciplinary approach to breast \\ncan...\n",
      "1   QuantumComputing-5.pdf  Today , computing power is advancing with sign...\n",
      "2   QuantumComputing-4.pdf  See discussions, st ats, and author pr ofiles ...\n",
      "3           Oncology-5.pdf  Cancer is a fatal disease and one of the leadi...\n",
      "4          Oncology-10.pdf  Bladder cancer (BC) is the most common urinary...\n",
      "5           Oncology-7.pdf  The wide adoption of electronic health records...\n",
      "6   QuantumComputing-6.pdf  Quantum computing (QC) is considered as a risi...\n",
      "7   QuantumComputing-7.pdf  Starting from a recursive construction of the ...\n",
      "8           Oncology-6.pdf  This paper outlines the major components and f...\n",
      "9         BrainTumor-9.pdf  Brain﻿tumor﻿detection﻿from﻿magnetic﻿resonance(...\n",
      "10          Oncology-2.pdf  In this paper, we apply the Dempster-Shafer th...\n",
      "11  QuantumComputing-3.pdf  See discussions, st ats, and author pr ofiles ...\n",
      "12  QuantumComputing-2.pdf  Work in Progress: The theory of Quantum Me-cha...\n",
      "13          Oncology-3.pdf  Cancer is a fatal disease and one of the leadi...\n",
      "14        BrainTumor-8.pdf  Segmentation is consider as one of the main st...\n",
      "15          Oncology-1.pdf  Over the past 25 years, there has been an unpa...\n",
      "16               IOT-8.pdf  The Internet of Things (IoT) is rapidly spread...\n",
      "17               IOT-9.pdf  Internet of Things (IoT) results in a massive ...\n",
      "18        BrainTumor-6.pdf  MRI Imaging play an important role in brain tu...\n",
      "19               IOT-4.pdf  Internet of Things (IoT), which will create a ...\n",
      "20               IOT-5.pdf  Digital twin network (DTN) is an emerging netw...\n",
      "21        BrainTumor-7.pdf  See discussions, st ats, and author pr ofiles ...\n",
      "22        BrainTumor-5.pdf  The successful early diagnosis of brain tumors...\n",
      "23               IOT-7.pdf  Decentralized paradigm in the ﬁeld of cybersec...\n",
      "24               IOT-6.pdf  The latest 5G mobile networks have enabled man...\n",
      "25        BrainTumor-4.pdf  See discussions, st ats, and author pr ofiles ...\n",
      "26       BrainTumor-10.pdf  In this paper, the automated classification of...\n",
      "27               IOT-2.pdf  The augmented reality (AR) applications have b...\n",
      "28               IOT-3.pdf  The proliferation of Internet of Things (IoT) ...\n",
      "29        BrainTumor-1.pdf  Deeper neural networks are more difﬁcult to tr...\n",
      "30        BrainTumor-3.pdf  The segmentation of brain tumors in magnetic \\...\n",
      "31          Oncology-8.pdf  We present the design and evaluation of an int...\n",
      "32               IOT-1.pdf  The Internet of Things (IoT) shall be able to ...\n",
      "33  QuantumComputing-8.pdf  The advantages of leveraging machine learning ...\n",
      "34          Oncology-9.pdf  Background. With the publication of large stud...\n",
      "35        BrainTumor-2.pdf  MRI Imaging play an important role in brain tu...\n",
      "36  QuantumMechanics-1.pdf  In this paper, first, we will discuss the impo...\n"
     ]
    }
   ],
   "source": [
    "directory_path = '/Users/avinashgoli/Documents/Big Data Programming/BigDataProject/DocumentDb'\n",
    "DE = []\n",
    "\n",
    "for filename in os.listdir(directory_path):\n",
    "    #print(filename)\n",
    "    if filename[-4:] == '.pdf':\n",
    "        filepath = directory_path+'/'+filename\n",
    "        #print(filepath)\n",
    "        pdfFileObj = open(filepath, 'rb')\n",
    "        pdfReader = PyPDF2.PdfFileReader(pdfFileObj)\n",
    "        numofpages = pdfReader.numPages\n",
    "        \n",
    "        pageObj = pdfReader.getPage(0)\n",
    "        text = pageObj.extractText()\n",
    "        #print(text)\n",
    "        \n",
    "        try:\n",
    "            abstractindex = re.search(r'Abstract', text, re.IGNORECASE)\n",
    "            introindex = re.search(r'(I. )?(1. )?I*ntroduction', text, re.IGNORECASE)\n",
    "\n",
    "            abstractend = 0\n",
    "            introstart = 0\n",
    "\n",
    "            if abstractindex:\n",
    "                abstractend = abstractindex.end()\n",
    "            if introindex:\n",
    "                introstart = introindex.start()\n",
    "\n",
    "            if introstart == 0:\n",
    "                paperAbstract = text[abstractend:]\n",
    "            else:\n",
    "                paperAbstract = text[abstractend:introstart]\n",
    "            #print(paperAbstract) \n",
    "        except:\n",
    "            paperAbstract = text\n",
    "        \n",
    "        paperAbstract = re.sub(r\"^\\W+\", \"\", paperAbstract.strip())\n",
    "        \n",
    "        pdfFileObj.close()\n",
    "        #A = [filename, paperAbstract, numofpages]\n",
    "        A = [filename, paperAbstract]\n",
    "        \n",
    "        DE.append(A)\n",
    "\n",
    "DocumentsExtract = pd.DataFrame(DE)\n",
    "#DocumentsExtract.columns = ['DocLink', 'Abstract', 'NumberOfPages']\n",
    "DocumentsExtract.columns = ['DocLink', 'Abstract']\n",
    "print(DocumentsExtract)\n"
   ]
  },
  {
   "cell_type": "code",
   "execution_count": null,
   "id": "83f698df",
   "metadata": {},
   "outputs": [],
   "source": []
  },
  {
   "cell_type": "code",
   "execution_count": null,
   "id": "b54c562f",
   "metadata": {},
   "outputs": [],
   "source": []
  }
 ],
 "metadata": {
  "kernelspec": {
   "display_name": "Python 3 (ipykernel)",
   "language": "python",
   "name": "python3"
  },
  "language_info": {
   "codemirror_mode": {
    "name": "ipython",
    "version": 3
   },
   "file_extension": ".py",
   "mimetype": "text/x-python",
   "name": "python",
   "nbconvert_exporter": "python",
   "pygments_lexer": "ipython3",
   "version": "3.9.13"
  }
 },
 "nbformat": 4,
 "nbformat_minor": 5
}
