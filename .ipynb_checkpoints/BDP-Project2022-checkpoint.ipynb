{
 "cells": [
  {
   "cell_type": "code",
   "execution_count": 1,
   "id": "87c064bf",
   "metadata": {},
   "outputs": [],
   "source": [
    "#Button Function"
   ]
  },
  {
   "cell_type": "code",
   "execution_count": 2,
   "id": "8f00e2eb",
   "metadata": {},
   "outputs": [],
   "source": [
    "def printThing(): \n",
    "    print(str(txtfld.get()))"
   ]
  },
  {
   "cell_type": "code",
   "execution_count": 3,
   "id": "50c8e823",
   "metadata": {},
   "outputs": [],
   "source": [
    "#UI Code"
   ]
  },
  {
   "cell_type": "code",
   "execution_count": 4,
   "id": "b57da91d",
   "metadata": {},
   "outputs": [],
   "source": [
    "from tkinter import *\n",
    "window=Tk()"
   ]
  },
  {
   "cell_type": "code",
   "execution_count": 5,
   "id": "6522dde2",
   "metadata": {},
   "outputs": [],
   "source": [
    "lbl=Label(window, text=\"Enter keywords to search documents\", fg='black', font=(\"Helvetica\", 12))\n",
    "lbl.place(relx=.5, rely=.25,anchor= CENTER)\n"
   ]
  },
  {
   "cell_type": "code",
   "execution_count": 6,
   "id": "fe034db8",
   "metadata": {},
   "outputs": [],
   "source": [
    "txtfld=Entry(window, text=\"Enter keywords (',' separated)\", bd=2)\n",
    "txtfld.place(relx=.5, rely=.35,anchor= CENTER)"
   ]
  },
  {
   "cell_type": "code",
   "execution_count": 7,
   "id": "9bc1b26e",
   "metadata": {
    "scrolled": true
   },
   "outputs": [],
   "source": [
    "btn=Button(window, text=\"Search Documents\", fg='black', command=printThing)\n",
    "btn.place(relx=.5, rely=.45,anchor= CENTER)"
   ]
  },
  {
   "cell_type": "code",
   "execution_count": null,
   "id": "04869f68",
   "metadata": {},
   "outputs": [
    {
     "name": "stdout",
     "output_type": "stream",
     "text": [
      "brain, tumor, bioinformatics\n"
     ]
    }
   ],
   "source": [
    "window.title('Sparkler for Documents')\n",
    "window.geometry(\"500x300+250+250\")\n",
    "window.mainloop()"
   ]
  },
  {
   "cell_type": "code",
   "execution_count": null,
   "id": "28c949a8",
   "metadata": {},
   "outputs": [],
   "source": []
  }
 ],
 "metadata": {
  "kernelspec": {
   "display_name": "Python 3 (ipykernel)",
   "language": "python",
   "name": "python3"
  },
  "language_info": {
   "codemirror_mode": {
    "name": "ipython",
    "version": 3
   },
   "file_extension": ".py",
   "mimetype": "text/x-python",
   "name": "python",
   "nbconvert_exporter": "python",
   "pygments_lexer": "ipython3",
   "version": "3.9.12"
  }
 },
 "nbformat": 4,
 "nbformat_minor": 5
}
