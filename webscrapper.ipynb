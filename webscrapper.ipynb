{
 "cells": [
  {
   "cell_type": "code",
   "execution_count": 76,
   "id": "d6f64cc9",
   "metadata": {},
   "outputs": [],
   "source": [
    "from bs4 import BeautifulSoup\n",
    "import requests\n",
    "import re\n",
    "import string\n",
    "from sklearn.feature_extraction.text import TfidfVectorizer\n",
    "import pandas as pd\n",
    "import numpy as np"
   ]
  },
  {
   "cell_type": "code",
   "execution_count": 77,
   "id": "ed094191",
   "metadata": {},
   "outputs": [],
   "source": [
    "r = requests.get('https://bola.kompas.com/')  #('https://www.wikipedia.org/')"
   ]
  },
  {
   "cell_type": "code",
   "execution_count": 78,
   "id": "79623f51",
   "metadata": {},
   "outputs": [],
   "source": [
    "soup = BeautifulSoup(r.content,'html.parser')"
   ]
  },
  {
   "cell_type": "code",
   "execution_count": 79,
   "id": "d8fd79c5",
   "metadata": {},
   "outputs": [],
   "source": [
    "#Retrieve all popular new links\n",
    "link = []\n",
    "for i in soup.find('div', {'class':'most__wrap'}).find_all('a'):\n",
    "    i['href'] = i['href'] + '?page=all'\n",
    "    link.append(i['href'])"
   ]
  },
  {
   "cell_type": "code",
   "execution_count": 80,
   "id": "935d4e1a",
   "metadata": {},
   "outputs": [],
   "source": [
    "#Retrieve paragrahs from each link, combine each paragrah as a string and save it to docs\n",
    "documents = []\n",
    "for i in link:\n",
    "    r = requests.get(i)\n",
    "    soup = BeautifulSoup(r.content,'html.parser')\n",
    "    \n",
    "    sen = []\n",
    "    for i in soup.find('div', {'class':'read__content'}).find_all('p'):\n",
    "        sen.append(i.text)\n",
    "        \n",
    "    documents.append(' '.join(sen))\n",
    "    "
   ]
  },
  {
   "cell_type": "code",
   "execution_count": 81,
   "id": "48dec6d9",
   "metadata": {},
   "outputs": [],
   "source": [
    "documents_clean = []\n",
    "for d in documents:\n",
    "    # Remove Unicode\n",
    "    document_test = re.sub(r'[^\\x00-\\x7F]+', ' ', d)\n",
    "    # Remove Mentions\n",
    "    document_test = re.sub(r'@\\w+', '', document_test)\n",
    "    # Lowercase the document\n",
    "    document_test = document_test.lower()\n",
    "    # Remove punctuations\n",
    "    document_test = re.sub(r'[%s]' % re.escape(string.punctuation), ' ', document_test)\n",
    "    # Lowercase the numbers\n",
    "    document_test = re.sub(r'[0-9]', '', document_test)\n",
    "    # Remove the doubled space\n",
    "    document_test = re.sub(r'\\s{2,}', ' ', document_test)\n",
    "    documents_clean.append(document_test)"
   ]
  },
  {
   "cell_type": "code",
   "execution_count": 82,
   "id": "7711f95b",
   "metadata": {},
   "outputs": [
    {
     "name": "stdout",
     "output_type": "stream",
     "text": [
      "               0         1         2         3         4         5         6  \\\n",
      "ac      0.000000  0.000000  0.047832  0.000000  0.000000  0.000000  0.000000   \n",
      "ada     0.000000  0.000000  0.037205  0.038026  0.024891  0.000000  0.000000   \n",
      "adalah  0.028404  0.013413  0.000000  0.025528  0.000000  0.020162  0.025342   \n",
      "adanya  0.000000  0.000000  0.000000  0.000000  0.000000  0.000000  0.000000   \n",
      "adapun  0.000000  0.000000  0.037205  0.076052  0.000000  0.000000  0.037748   \n",
      "...          ...       ...       ...       ...       ...       ...       ...   \n",
      "yg      0.000000  0.000000  0.000000  0.000000  0.000000  0.000000  0.000000   \n",
      "yilyu   0.000000  0.000000  0.000000  0.000000  0.000000  0.000000  0.085632   \n",
      "yue     0.000000  0.000000  0.000000  0.000000  0.000000  0.000000  0.028544   \n",
      "zhe     0.000000  0.025686  0.000000  0.000000  0.000000  0.038610  0.000000   \n",
      "zona    0.000000  0.000000  0.000000  0.000000  0.000000  0.000000  0.000000   \n",
      "\n",
      "               7         8         9  \n",
      "ac      0.000000  0.000000  0.042132  \n",
      "ada     0.137775  0.000000  0.000000  \n",
      "adalah  0.015416  0.061675  0.088005  \n",
      "adanya  0.034727  0.000000  0.000000  \n",
      "adapun  0.000000  0.000000  0.032772  \n",
      "...          ...       ...       ...  \n",
      "yg      0.000000  0.023156  0.000000  \n",
      "yilyu   0.000000  0.000000  0.000000  \n",
      "yue     0.000000  0.000000  0.000000  \n",
      "zhe     0.000000  0.000000  0.000000  \n",
      "zona    0.000000  0.046312  0.000000  \n",
      "\n",
      "[1160 rows x 10 columns]\n"
     ]
    }
   ],
   "source": [
    "# Instantiate a TfIdfVectorizer Object and transform the data to vectors\n",
    "vectorizer = TfidfVectorizer()\n",
    "X = vectorizer.fit_transform(documents_clean)\n",
    "X = X.T.toarray()\n",
    "\n",
    "df = pd.DataFrame(X, index=vectorizer.get_feature_names_out())\n",
    "\n",
    "print(df)"
   ]
  },
  {
   "cell_type": "code",
   "execution_count": 83,
   "id": "034d0723",
   "metadata": {},
   "outputs": [],
   "source": [
    "#Similar Articles\n",
    "def get_similar_articles(q,df):\n",
    "    print(\"query: \",q)\n",
    "    \n",
    "    q = [q]\n",
    "    q_vector = vectorizer.transform(q).toarray().reshape(df.shape[0],)\n",
    "    sim = {}\n",
    "    \n",
    "    for i in range(10):\n",
    "        sim[i] = np.dot(df.loc[:, i].values, q_vector) / np.linalg.norm(df.loc[:,i]) * np.linalg.norm(q_vector)\n",
    "        \n",
    "    sim_sorted = sorted(sim.items(), key = lambda x:x[1], reverse = True)\n",
    "    \n",
    "    for k,v in sim_sorted:\n",
    "        if v != 0.0:\n",
    "            print(\"Similarities:\", v)\n",
    "            print(documents_clean[k])        "
   ]
  },
  {
   "cell_type": "code",
   "execution_count": 84,
   "id": "ecc23b07",
   "metadata": {},
   "outputs": [],
   "source": [
    "q1 = 'barcelona'"
   ]
  },
  {
   "cell_type": "code",
   "execution_count": 85,
   "id": "52c2c235",
   "metadata": {},
   "outputs": [
    {
     "name": "stdout",
     "output_type": "stream",
     "text": [
      "query:  barcelona\n",
      "Similarities: 0.17252397014919\n",
      " kompas com hasil undian atau drawing babak playoff liga europa mempertemukan barcelona vs manchester united kepastian itu diketahui setelah drawing playoff liga europa digelar di kantor uefa nyon swiss senin malam wib drawing playoff liga europa diikuti oleh tim yang terdiri dari runner up grup liga europa dan tim peringkat ketiga fase grup liga champions kedelapan runner up grup liga europa yakni manchester united midtjylland monaco nantes psv eindhoven rennes as roma dan union berlin baca juga ada man united barcelona sampai juventus liga europa rasa liga champions adapun tim peringkat ketiga grup liga champions adalah ajax barcelona juventus bayer leverkusen salzburg sevilla shakhtar donetsk dan sporting cp sesuai dengan regulasi uefa klub dari negara yang sama tidak akan bertemu pada babak playoff liga europa adapun pemenang di babak playoff ini berhak melaju ke besar dan akan diundi dengan tim tim juara grup liga europa termasuk arsenal baca juga hasil drawing liga champions liverpool vs real madrid psg vs bayern babak playoff liga europa akan berlangsung dalam dua leg jadwal leg pertama digelar pada februari dan leg kedua dimainkan pada februari \n"
     ]
    }
   ],
   "source": [
    "get_similar_articles(q1,df)"
   ]
  },
  {
   "cell_type": "code",
   "execution_count": null,
   "id": "a37613a9",
   "metadata": {},
   "outputs": [],
   "source": []
  },
  {
   "cell_type": "code",
   "execution_count": null,
   "id": "fe325ef0",
   "metadata": {},
   "outputs": [],
   "source": []
  }
 ],
 "metadata": {
  "kernelspec": {
   "display_name": "Python 3 (ipykernel)",
   "language": "python",
   "name": "python3"
  },
  "language_info": {
   "codemirror_mode": {
    "name": "ipython",
    "version": 3
   },
   "file_extension": ".py",
   "mimetype": "text/x-python",
   "name": "python",
   "nbconvert_exporter": "python",
   "pygments_lexer": "ipython3",
   "version": "3.9.13"
  }
 },
 "nbformat": 4,
 "nbformat_minor": 5
}
